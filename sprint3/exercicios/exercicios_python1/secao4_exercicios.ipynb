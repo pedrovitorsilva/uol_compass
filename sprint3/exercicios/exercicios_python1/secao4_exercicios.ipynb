{
 "cells": [
  {
   "cell_type": "markdown",
   "metadata": {},
   "source": [
    "# Exercício 6\n"
   ]
  },
  {
   "cell_type": "markdown",
   "metadata": {},
   "source": [
    "Considere as duas listas abaixo:\n",
    "\n",
    "\n",
    "`a = [1, 1, 2, 3, 5, 8, 14, 21, 34, 55, 89]`\n",
    "\n",
    "`b = [1, 2, 3, 4, 5, 6, 7, 8, 9, 10, 11, 12, 13, 14, 15]`\n",
    "\n",
    "\n",
    "Escreva um programa para avaliar o que ambas as listas têm em comum (sem repetições), imprimindo a lista de valores da interseção na saída padrão."
   ]
  },
  {
   "cell_type": "code",
   "execution_count": null,
   "metadata": {},
   "outputs": [],
   "source": [
    "a = [1, 1, 2, 3, 5, 8, 14, 21, 34, 55, 89]\n",
    "b = [1, 2, 3, 4, 5, 6, 7, 8, 9, 10, 11, 12, 13, 14, 15]\n",
    "\n",
    "intersecao = set(a).intersection(set(b))\n",
    "print(list(intersecao))"
   ]
  },
  {
   "cell_type": "markdown",
   "metadata": {},
   "source": [
    "# Exercício 7\n"
   ]
  },
  {
   "cell_type": "markdown",
   "metadata": {},
   "source": [
    "Dada a seguinte lista:\n",
    "\n",
    "`a = [1, 4, 9, 16, 25, 36, 49, 64, 81, 100]`\n",
    "\n",
    "Faça um programa que gere uma nova lista contendo apenas números ímpares."
   ]
  },
  {
   "cell_type": "code",
   "execution_count": null,
   "metadata": {},
   "outputs": [],
   "source": [
    "a = [1, 4, 9, 16, 25, 36, 49, 64, 81, 100]\n",
    "\n",
    "b = list(filter(lambda x: x % 2 != 0, a))\n",
    "print(b)\n"
   ]
  },
  {
   "cell_type": "markdown",
   "metadata": {},
   "source": [
    "# Exercício 8\n"
   ]
  },
  {
   "cell_type": "markdown",
   "metadata": {},
   "source": [
    "Verifique se cada uma das palavras da lista ['maça', 'arara', 'audio', 'radio', 'radar', 'moto'] é ou não um palíndromo. Palíndromo é uma palavra que permanece igual se lida de traz pra frente.\n",
    "\n",
    "É necessário que você imprima no console exatamente assim:\n",
    "\n",
    "- A palavra: maça não é um palíndromo\n",
    "- A palavra: arara é um palíndromo\n",
    "- A palavra: audio não é um palíndromo\n",
    "- A palavra: radio não é um palíndromo\n",
    "- A palavra: radar é um palíndromo\n",
    "- A palavra: moto não é um palíndromo"
   ]
  },
  {
   "cell_type": "code",
   "execution_count": null,
   "metadata": {},
   "outputs": [],
   "source": [
    "lista = [\"maça\", \"arara\", \"audio\", \"radio\", \"radar\", \"moto\"]\n",
    "\n",
    "def palindromo(palavra):\n",
    "    ponteiro1 = 0\n",
    "    ponteiro2 = len(palavra) - 1\n",
    "\n",
    "    while ponteiro1 <= ponteiro2:\n",
    "        \n",
    "        if palavra[ponteiro1] != palavra[ponteiro2]:\n",
    "            return False\n",
    "        \n",
    "        ponteiro1 += 1\n",
    "        ponteiro2 -= 1\n",
    "    \n",
    "    return True\n",
    "\n",
    "\n",
    "for palavra in lista:\n",
    "    print(f'A palavra: {palavra} {\"\" if palindromo(palavra) else \"não \" }é um palíndromo')"
   ]
  },
  {
   "cell_type": "markdown",
   "metadata": {},
   "source": [
    "# Exercício 9\n"
   ]
  },
  {
   "cell_type": "markdown",
   "metadata": {},
   "source": [
    "Dada as listas a seguir:\n",
    "\n",
    "\n",
    "- primeirosNomes = ['Joao', 'Douglas', 'Lucas', 'José']\n",
    "- sobreNomes = ['Soares', 'Souza', 'Silveira', 'Pedreira']\n",
    "- idades = [19, 28, 25, 31]\n",
    "\n",
    "Faça um programa que imprima o dados na seguinte estrutura: \"índice - primeiroNome sobreNome está com idade anos\".\n",
    "\n",
    "Exemplo: 0 - João Soares está com 19 anos"
   ]
  },
  {
   "cell_type": "code",
   "execution_count": null,
   "metadata": {},
   "outputs": [],
   "source": [
    "primeirosNomes = ['Joao', 'Douglas', 'Lucas', 'José']\n",
    "sobreNomes = ['Soares', 'Souza', 'Silveira', 'Pedreira']\n",
    "idades = [19, 28, 25, 31]\n",
    "\n",
    "for dado in enumerate(tuple(zip(primeirosNomes,sobreNomes,idades))):\n",
    "    indice = dado[0]\n",
    "    pn, sn, i = dado[1]\n",
    "    print(f'{indice} - {pn} {sn} está com {i} anos')"
   ]
  },
  {
   "cell_type": "markdown",
   "metadata": {},
   "source": [
    "# Exercício 10\n"
   ]
  },
  {
   "cell_type": "markdown",
   "metadata": {},
   "source": [
    "Escreva uma função que recebe uma lista e retorna uma nova lista sem elementos duplicados. Utilize a lista a seguir para testar sua função.\n",
    "\n",
    "\n",
    "['abc', 'abc', 'abc', '123', 'abc', '123', '123'] "
   ]
  },
  {
   "cell_type": "code",
   "execution_count": null,
   "metadata": {},
   "outputs": [],
   "source": [
    "lista = [\"abc\", \"abc\", \"abc\", \"123\", \"abc\", \"123\", \"123\"]\n",
    "\n",
    "def remover_duplicados(l):\n",
    "    return(list(set(l)))\n",
    "\n",
    "print(remover_duplicados(lista))\n",
    "\n"
   ]
  },
  {
   "cell_type": "markdown",
   "metadata": {},
   "source": [
    "# Exercício 11"
   ]
  },
  {
   "cell_type": "markdown",
   "metadata": {},
   "source": [
    "Leia o arquivo person.json, faça o parsing e imprima seu conteúdo."
   ]
  },
  {
   "cell_type": "code",
   "execution_count": 1,
   "metadata": {},
   "outputs": [
    {
     "name": "stdout",
     "output_type": "stream",
     "text": [
      "{'name': 'Fulano Da Silva', 'endereco': 'Rua Sem Nome, 31', 'startDateExecution': '2019-06-25 16:25:23.233', 'endDateExecution': '2019-06-25 16:25:23.331', 'siteId': 'BrasilDesktop', 'sitePage': '/', 'serverName': 'AS1332:10181', 'profileId': '8947071299', 'type': 'JSP_RENDERING', 'path': 'testado/com', 'performanceType': 'JSP_RENDERING'}\n"
     ]
    }
   ],
   "source": [
    "import json\n",
    "\n",
    "with open(\"./data/person.json\") as file:\n",
    "    f = file.read()\n",
    "    dados = json.loads(f)\n",
    "    print(dados)"
   ]
  },
  {
   "cell_type": "markdown",
   "metadata": {},
   "source": [
    "# Exercício 12"
   ]
  },
  {
   "cell_type": "markdown",
   "metadata": {},
   "source": [
    "Implemente a função my_map(list, f) que recebe uma lista como primeiro argumento e uma função como segundo argumento. Esta função aplica a função recebida para cada elemento da lista recebida e retorna o resultado em uma nova lista.\n",
    "\n",
    "\n",
    "Teste sua função com a lista de entrada [1, 2, 3, 4, 5, 6, 7, 8, 9, 10] e com uma função que potência de 2 para cada elemento."
   ]
  },
  {
   "cell_type": "code",
   "execution_count": null,
   "metadata": {},
   "outputs": [],
   "source": [
    "my_map = lambda l, f: list(map(f, l))\n",
    "\n",
    "lista = [1, 2, 3, 4, 5, 6, 7, 8, 9, 10]\n",
    "print(my_map(lista, lambda x: x**2))"
   ]
  },
  {
   "cell_type": "markdown",
   "metadata": {},
   "source": [
    "# Exercício 13"
   ]
  },
  {
   "cell_type": "markdown",
   "metadata": {},
   "source": [
    "Escreva um programa que lê o conteúdo do arquivo texto arquivo_texto.txt e imprime o seu conteúdo."
   ]
  },
  {
   "cell_type": "code",
   "execution_count": null,
   "metadata": {},
   "outputs": [],
   "source": [
    "with open(\"./data/arquivo_texto.txt\") as file:\n",
    "    dados = file.read()\n",
    "    dados = dados.strip()\n",
    "\n",
    "    print(dados, end=\"\")"
   ]
  },
  {
   "cell_type": "markdown",
   "metadata": {},
   "source": [
    "# Exercício 14"
   ]
  },
  {
   "cell_type": "markdown",
   "metadata": {},
   "source": [
    "Escreva uma função que recebe um número variável de parâmetros não nomeados e um número variado de parâmetros nomeados e imprime o valor de cada parâmetro recebido.\n",
    "\n",
    "\n",
    "Teste sua função com os seguintes parâmetros:\n",
    "\n",
    "\n",
    "(1, 3, 4, 'hello', parametro_nomeado='alguma coisa', x=20) "
   ]
  },
  {
   "cell_type": "code",
   "execution_count": null,
   "metadata": {},
   "outputs": [],
   "source": [
    "def funcao(*args, **kwargs):\n",
    "    for i in args:\n",
    "        print(i)\n",
    "    for j in kwargs.values(): \n",
    "        print(j)\n",
    "\n",
    "funcao(1, 3, 4, 'hello', parametro_nomeado='alguma coisa', x=20)"
   ]
  },
  {
   "cell_type": "markdown",
   "metadata": {},
   "source": [
    "# Exercício 15"
   ]
  },
  {
   "cell_type": "markdown",
   "metadata": {},
   "source": [
    "Implemente a classe Lampada. A classe Lâmpada recebe um booleano no seu construtor, Truese a lâmpada estiver ligada, False caso esteja desligada. A classe Lampada possuí os seguintes métodos:\n",
    "\n",
    "- liga(): muda o estado da lâmpada para ligada\n",
    "\n",
    "- desliga(): muda o estado da lâmpada para desligada\n",
    "\n",
    "- esta_ligada(): retorna verdadeiro se a lâmpada estiver ligada, falso caso contrário\n",
    "\n",
    "Para testar sua classe:\n",
    "\n",
    "- Ligue a Lampada\n",
    "\n",
    "- Imprima: A lâmpada está ligada? True\n",
    "\n",
    "- Desligue a Lampada\n",
    "\n",
    "- Imprima: A lâmpada ainda está ligada? False"
   ]
  },
  {
   "cell_type": "code",
   "execution_count": null,
   "metadata": {},
   "outputs": [],
   "source": [
    "class Lampada:\n",
    "    def __init__(self, ligada):\n",
    "        self.ligada = ligada\n",
    "\n",
    "    def liga(self):\n",
    "        self.ligada = True\n",
    "\n",
    "    def desliga(self):\n",
    "        self.ligada = False\n",
    "\n",
    "    def esta_ligada(self):\n",
    "        return self.ligada\n",
    "\n",
    "\n",
    "lamp = Lampada(True)\n",
    "print(lamp.esta_ligada())\n",
    "lamp.desliga()\n",
    "print(lamp.esta_ligada())"
   ]
  },
  {
   "cell_type": "markdown",
   "metadata": {},
   "source": [
    "# Exercício 16"
   ]
  },
  {
   "cell_type": "markdown",
   "metadata": {},
   "source": [
    "Escreva uma função que recebe uma string de números separados por vírgula e retorne a soma de todos eles. Depois imprima a soma dos valores."
   ]
  },
  {
   "cell_type": "code",
   "execution_count": null,
   "metadata": {},
   "outputs": [],
   "source": [
    "string = \"1,3,4,6,10,76\"\n",
    "\n",
    "\n",
    "def func(s):\n",
    "    return sum(map(lambda x: int(x), s.split(\",\")))\n",
    "\n",
    "\n",
    "print(func(string))"
   ]
  },
  {
   "cell_type": "markdown",
   "metadata": {},
   "source": [
    "# Exercício 17"
   ]
  },
  {
   "cell_type": "markdown",
   "metadata": {},
   "source": [
    "Escreva uma função que recebe como parâmetro uma lista e retorna 3 listas: a lista recebida dividida em 3 partes iguais."
   ]
  },
  {
   "cell_type": "code",
   "execution_count": null,
   "metadata": {},
   "outputs": [],
   "source": [
    "# def dividir(lista):\n",
    "#     partes = [[], [], []]\n",
    "\n",
    "#     parte_atual = 0\n",
    "#     for i in lista:\n",
    "#         partes[parte_atual].append(i)\n",
    "\n",
    "#         parte_atual += 1\n",
    "#         if parte_atual > 2:\n",
    "#             parte_atual = 0\n",
    "\n",
    "#     return partes"
   ]
  },
  {
   "cell_type": "code",
   "execution_count": null,
   "metadata": {},
   "outputs": [],
   "source": [
    "lista = [1, 2, 3, 4, 5, 6, 7, 8, 9, 10, 11, 12]\n",
    "\n",
    "def dividir(lista):\n",
    "\n",
    "    tamanho_das_partes = len(lista) // 3\n",
    "    parte1 = lista[:tamanho_das_partes]\n",
    "    parte2 = lista[tamanho_das_partes: tamanho_das_partes * 2]\n",
    "    parte3 = lista[tamanho_das_partes * 2:]\n",
    "\n",
    "    print(parte1,parte2,parte3)\n",
    "    return    \n",
    "\n",
    "dividir(lista)"
   ]
  },
  {
   "cell_type": "markdown",
   "metadata": {},
   "source": [
    "# Exercício 18"
   ]
  },
  {
   "cell_type": "markdown",
   "metadata": {},
   "source": [
    "Dado o dicionário a seguir:\n",
    "\n",
    "speed = {'jan':47, 'feb':52, 'march':47, 'April':44, 'May':52, 'June':53, 'july':54, 'Aug':44, 'Sept':54}\n",
    "\n",
    "Crie uma lista com todos os valores (não as chaves!) e coloque numa lista de forma que não haja valores duplicados."
   ]
  },
  {
   "cell_type": "code",
   "execution_count": null,
   "metadata": {},
   "outputs": [],
   "source": [
    "speed = {\n",
    "    \"jan\": 47,\n",
    "    \"feb\": 52,\n",
    "    \"march\": 47,\n",
    "    \"April\": 44,\n",
    "    \"May\": 52,\n",
    "    \"June\": 53,\n",
    "    \"july\": 54,\n",
    "    \"Aug\": 44,\n",
    "    \"Sept\": 54,\n",
    "}\n",
    "\n",
    "print(list(set(speed.values())))"
   ]
  },
  {
   "cell_type": "markdown",
   "metadata": {},
   "source": [
    "# Exercício 19"
   ]
  },
  {
   "cell_type": "markdown",
   "metadata": {},
   "source": [
    "Calcule o valor mínimo, valor máximo, valor médio e a mediana da lista.\n",
    "\n",
    "Obs.: Lembrem-se, para calcular a mediana a lista deve estar ordenada!"
   ]
  },
  {
   "cell_type": "code",
   "execution_count": null,
   "metadata": {},
   "outputs": [],
   "source": [
    "import random\n",
    "\n",
    "random_list = random.sample(range(500), 50)\n",
    "\n",
    "random_list = sorted(random_list)\n",
    "\n",
    "valor_minimo = min(random_list)\n",
    "valor_maximo = max(random_list)\n",
    "\n",
    "media = sum(random_list) / len(random_list)\n",
    "\n",
    "# 50 números: valor par\n",
    "# Mediana = somar os termos centrais e dividir por 2\n",
    "\n",
    "len_list = len(random_list)\n",
    "\n",
    "mediana = (random_list[len_list // 2] + random_list[(len_list // 2) - 1]) / 2\n",
    "\n",
    "print(\n",
    "    f\"Media: {media}, Mediana: {mediana}, Mínimo: {valor_minimo}, Máximo: {valor_maximo}\"\n",
    ")"
   ]
  },
  {
   "cell_type": "markdown",
   "metadata": {},
   "source": [
    "# Exercício 20"
   ]
  },
  {
   "cell_type": "markdown",
   "metadata": {},
   "source": [
    "Imprima a lista de trás pra frente."
   ]
  },
  {
   "cell_type": "code",
   "execution_count": null,
   "metadata": {},
   "outputs": [],
   "source": [
    "a = [1, 0, 2, 3, 5, 8, 13, 21, 34, 55, 89]\n",
    "print(a[::-1])"
   ]
  },
  {
   "cell_type": "markdown",
   "metadata": {},
   "source": [
    "# Exercício 21"
   ]
  },
  {
   "cell_type": "markdown",
   "metadata": {},
   "source": [
    "Implemente duas classes, Pato e Pardal , que herdam de uma superclasse chamada Passaro as habilidades de voar e emitir som.\n",
    "\n",
    "\n",
    "Contudo, tanto Pato quanto Pardal devem emitir sons diferentes (de maneira escrita) no console, conforme o modelo a seguir.\n",
    "\n",
    "\n",
    "Imprima no console exatamente assim:\n",
    "\n",
    "    Pato\n",
    "    Voando...\n",
    "    Pato emitindo som...\n",
    "    Quack Quack\n",
    "    Pardal\n",
    "    Voando...\n",
    "    Pardal emitindo som...\n",
    "    Piu Piu"
   ]
  },
  {
   "cell_type": "code",
   "execution_count": null,
   "metadata": {},
   "outputs": [],
   "source": [
    "class Passaro:\n",
    "\n",
    "    def __init__(self, nome, som):\n",
    "        self.nome = nome\n",
    "        self.som = som\n",
    "\n",
    "    def imprimir_nome(self):\n",
    "        print(self.nome)\n",
    "\n",
    "    def voar(self):\n",
    "        print(\"Voando...\")\n",
    "\n",
    "    def emitirSom(self):\n",
    "        print(f\"{self.nome} emitindo som...\\n{self.som}\")\n",
    "\n",
    "\n",
    "class Pato(Passaro):\n",
    "\n",
    "    def __init__(self):\n",
    "        super().__init__(\"Pato\", \"Quack Quack\")\n",
    "\n",
    "\n",
    "class Pardal(Passaro):\n",
    "\n",
    "    def __init__(self):\n",
    "        super().__init__(\"Pardal\", \"Piu Piu\")\n",
    "\n",
    "\n",
    "pato = Pato()\n",
    "pardal = Pardal()\n",
    "\n",
    "pato.imprimir_nome()\n",
    "pato.voar()\n",
    "pato.emitirSom()\n",
    "\n",
    "pardal.imprimir_nome()\n",
    "pardal.voar()\n",
    "pardal.emitirSom()"
   ]
  },
  {
   "cell_type": "markdown",
   "metadata": {},
   "source": [
    "# Exercício 22"
   ]
  },
  {
   "cell_type": "markdown",
   "metadata": {},
   "source": [
    "Crie uma classe chamada Pessoa, com um atributo privado chamado nome (declarado internamente na classe como __nome) e um atributo público de nome id.\n",
    "\n",
    "Adicione dois métodos à classe, sendo um para definir o valor de __nome e outro para retornar o valor do respectivo atributo.\n",
    "\n",
    "Lembre-se que o acesso ao atributo privado deve ocorrer somente através dos métodos definidos, nunca diretamente.  Você pode alcançar este comportamento através do recurso de properties do Python."
   ]
  },
  {
   "cell_type": "code",
   "execution_count": null,
   "metadata": {},
   "outputs": [],
   "source": [
    "class Pessoa:\n",
    "    def __init__(self, id):\n",
    "        self.id = id\n",
    "        self.__nome = \"Fulano De Tal\"\n",
    "\n",
    "    def _get_nome(self):\n",
    "        return self.__nome\n",
    "\n",
    "    def _set_nome(self, nome):\n",
    "        self.__nome = nome\n",
    "\n",
    "    nome = property(fget=_get_nome, fset=_set_nome)"
   ]
  },
  {
   "cell_type": "markdown",
   "metadata": {},
   "source": [
    "# Exercício 23"
   ]
  },
  {
   "cell_type": "markdown",
   "metadata": {},
   "source": [
    "Crie uma classe  Calculo  que contenha um método que aceita dois parâmetros, X e Y, e retorne a soma dos dois. Nessa mesma classe, implemente um método de subtração, que aceita dois parâmetros, X e Y, e retorne a subtração dos dois (resultados negativos são permitidos). "
   ]
  },
  {
   "cell_type": "code",
   "execution_count": null,
   "metadata": {},
   "outputs": [],
   "source": [
    "class Calculo():\n",
    "    def __init__(self):\n",
    "        pass\n",
    "\n",
    "    def soma(self,x,y):\n",
    "        print(f'Somando {x}+{y} = {x + y}')\n",
    "\n",
    "    def subtracao(self,x,y):\n",
    "        print(f'Subtraindo {x}-{y} = {x + y}')\n",
    "\n",
    "c = Calculo()\n",
    "c.soma(4,5)\n",
    "c.subtracao(4,5)"
   ]
  },
  {
   "cell_type": "markdown",
   "metadata": {},
   "source": [
    "# Exercício 24"
   ]
  },
  {
   "cell_type": "markdown",
   "metadata": {},
   "source": [
    "Crie uma classe Ordenadora que contenha um atributo listaBaguncada e que contenha os métodos ordenacaoCrescente e ordenacaoDecrescente.\n",
    "\n",
    "Instancie um objeto chamado crescente dessa classe Ordenadora que tenha como listaBaguncada a lista [3,4,2,1,5] e instancie um outro objeto, decrescente dessa mesma classe com uma outra listaBaguncada sendo [9,7,6,8].\n",
    "\n",
    "Para o primeiro objeto citado, use o método ordenacaoCrescente e para o segundo objeto, use o método ordenacaoDecrescente."
   ]
  },
  {
   "cell_type": "code",
   "execution_count": 13,
   "metadata": {},
   "outputs": [
    {
     "name": "stdout",
     "output_type": "stream",
     "text": [
      "[1, 2, 3, 4, 5]\n",
      "[9, 8, 7, 6]\n"
     ]
    }
   ],
   "source": [
    "class Ordenadora():\n",
    "    def __init__(self,listaBaguncada):\n",
    "        self.listaBaguncada = listaBaguncada\n",
    "\n",
    "    def ordenacaoCrescente(self):\n",
    "        return sorted(self.listaBaguncada)\n",
    "    \n",
    "    def ordenacaoDecrescente(self):\n",
    "        return self.ordenacaoCrescente()[::-1]\n",
    "\n",
    "a = Ordenadora([3,4,2,1,5])\n",
    "b = Ordenadora([9,7,6,8])\n",
    "\n",
    "print(a.ordenacaoCrescente())\n",
    "print(b.ordenacaoDecrescente())"
   ]
  },
  {
   "cell_type": "markdown",
   "metadata": {},
   "source": [
    "# Exercício 25"
   ]
  },
  {
   "cell_type": "markdown",
   "metadata": {},
   "source": [
    "Crie uma classe Avião que possua os atributos modelo, velocidade_maxima, cor e capacidade.\n",
    "\n",
    "Defina o atributo cor de sua classe , de maneira que todas as instâncias de sua classe avião sejam da cor “azul”.\n",
    "\n",
    "Após isso, a partir de entradas abaixo, instancie e armazene em uma lista 3 objetos da classe Avião.\n",
    "\n",
    "Ao final, itere pela lista imprimindo cada um dos objetos no seguinte formato:\n",
    "\n",
    "“O avião de modelo “x” possui uma velocidade máxima de “y”, capacidade para “z” passageiros e é da cor “w”.\n",
    "\n",
    "Sendo x, y, z e w cada um dos atributos da classe “Avião”.\n",
    "\n",
    "\n",
    "Valores de entrada:\n",
    "\n",
    "- modelo BOIENG456: velocidade máxima 1500 km/h: capacidade para 400 passageiros: Cor Azul\n",
    "\n",
    "- modelo Embraer Praetor 600: velocidade máxima 863km/h: capacidade para 14 passageiros: Cor Azul\n",
    "\n",
    "- modelo Antonov An-2: velocidade máxima de 258 Km/h: capacidade para 12 passageiros: Cor Azul"
   ]
  },
  {
   "cell_type": "code",
   "execution_count": 32,
   "metadata": {},
   "outputs": [
    {
     "name": "stdout",
     "output_type": "stream",
     "text": [
      "O avião de modelo BOIENG456 possui uma velocidade máxima de 1500 km/h, capacidade para 400 passageiros e é da cor azul.\n",
      "O avião de modelo Embraer Praetor 600 possui uma velocidade máxima de 863 km/h, capacidade para 14 passageiros e é da cor azul.\n",
      "O avião de modelo Antonov An-2 possui uma velocidade máxima de 258 km/h, capacidade para 12 passageiros e é da cor azul.\n"
     ]
    }
   ],
   "source": [
    "class Aviao():\n",
    "    def __init__(self, modelo, velocidade_maxima,capacidade):\n",
    "        self.modelo = modelo\n",
    "        self.velocidade_maxima = velocidade_maxima\n",
    "        self.capacidade = capacidade\n",
    "        self.cor = 'azul'\n",
    "\n",
    "    def __str__(self):\n",
    "        string = (f\"O avião de modelo {self.modelo} \" +\n",
    "        f\"possui uma velocidade máxima de {self.velocidade_maxima}, \" +\n",
    "        f\"capacidade para {self.capacidade} passageiros e \" +\n",
    "        f\"é da cor {self.cor}.\")\n",
    "        return string\n",
    "\n",
    "\n",
    "a = Aviao('BOIENG456', '1500 km/h', 400)\n",
    "b = Aviao('Embraer Praetor 600', '863 km/h', 14)\n",
    "c = Aviao('Antonov An-2', '258 km/h', 12)\n",
    "\n",
    "lista = [a,b,c]\n",
    "for aviao in lista:\n",
    "    print(aviao)"
   ]
  }
 ],
 "metadata": {
  "kernelspec": {
   "display_name": "Python 3",
   "language": "python",
   "name": "python3"
  },
  "language_info": {
   "codemirror_mode": {
    "name": "ipython",
    "version": 3
   },
   "file_extension": ".py",
   "mimetype": "text/x-python",
   "name": "python",
   "nbconvert_exporter": "python",
   "pygments_lexer": "ipython3",
   "version": "3.10.12"
  }
 },
 "nbformat": 4,
 "nbformat_minor": 2
}
