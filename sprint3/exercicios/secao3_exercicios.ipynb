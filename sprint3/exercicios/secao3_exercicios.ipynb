{
 "cells": [
  {
   "attachments": {},
   "cell_type": "markdown",
   "metadata": {},
   "source": [
    "# Exercício 1\n"
   ]
  },
  {
   "cell_type": "markdown",
   "metadata": {},
   "source": [
    "Desenvolva um código em Python que crie variáveis para armazenar o nome e a idade de uma pessoa, juntamente com seus valores correspondentes. Como saída, imprima o ano em que a pessoa completará 100 anos de idade."
   ]
  },
  {
   "cell_type": "code",
   "execution_count": 1,
   "metadata": {},
   "outputs": [
    {
     "name": "stdout",
     "output_type": "stream",
     "text": [
      "2103\n"
     ]
    }
   ],
   "source": [
    "from datetime import date\n",
    "\n",
    "nome = \"Pedro\"\n",
    "idade = 21\n",
    "\n",
    "print(date.today().year + (100 - idade))"
   ]
  },
  {
   "cell_type": "markdown",
   "metadata": {},
   "source": [
    "# Exercício 2\n"
   ]
  },
  {
   "cell_type": "markdown",
   "metadata": {},
   "source": [
    "Escreva um código Python que use a função range() para adicionar três números em uma lista(Esta lista deve chamar-se 'números')  e verificar se esses três números são pares ou ímpares. Para cada número, imprima como saída Par: ou Ímpar: e o número correspondente (um linha para cada número lido).\n",
    "\n",
    "\n",
    "Importante: Aplique a função range() em seu código.\n",
    "\n",
    "\n",
    "Exemplos de saída:\n",
    "\n",
    "- Par: 2\n",
    "- Ímpar: 3"
   ]
  },
  {
   "cell_type": "code",
   "execution_count": 2,
   "metadata": {},
   "outputs": [
    {
     "name": "stdout",
     "output_type": "stream",
     "text": [
      "Ímpar: 1\n",
      "Par: 2\n",
      "Ímpar: 3\n"
     ]
    }
   ],
   "source": [
    "numeros = [x for x in range(1, 4)] # 1,2,3\n",
    "\n",
    "for n in numeros:\n",
    "    if n % 2 == 0:\n",
    "        print(f\"Par: {n}\")\n",
    "    else:\n",
    "        print(f\"Ímpar: {n}\")"
   ]
  },
  {
   "cell_type": "markdown",
   "metadata": {},
   "source": [
    "# Exercício 3\n"
   ]
  },
  {
   "cell_type": "markdown",
   "metadata": {},
   "source": [
    "Escreva um código Python para imprimir os números pares de 0 até 20 (incluso).\n",
    "\n",
    "\n",
    "Importante: Aplique a função range() em seu código."
   ]
  },
  {
   "cell_type": "code",
   "execution_count": 3,
   "metadata": {},
   "outputs": [
    {
     "name": "stdout",
     "output_type": "stream",
     "text": [
      "0\n",
      "2\n",
      "4\n",
      "6\n",
      "8\n",
      "10\n",
      "12\n",
      "14\n",
      "16\n",
      "18\n",
      "20\n"
     ]
    }
   ],
   "source": [
    "for i in range(0,21,2):\n",
    "    print(i)"
   ]
  },
  {
   "cell_type": "markdown",
   "metadata": {},
   "source": [
    "# Exercício 4\n",
    "\n"
   ]
  },
  {
   "cell_type": "markdown",
   "metadata": {},
   "source": [
    "Escreva um código Python para imprimir todos os números primos entre 1 até 100. Lembre-se que você deverá desenvolver o cálculo que identifica se um número é primo ou não.\n",
    "\n",
    "\n",
    "Importante: Aplique a função range()."
   ]
  },
  {
   "cell_type": "markdown",
   "metadata": {},
   "source": [
    "Referências: \n",
    "\n",
    "Sieve of Eratosthenes - https://pt.wikipedia.org/wiki/Crivo_de_Erat%C3%B3stenes"
   ]
  },
  {
   "cell_type": "code",
   "execution_count": 26,
   "metadata": {},
   "outputs": [
    {
     "name": "stdout",
     "output_type": "stream",
     "text": [
      "[2, 3, 5, 7, 11, 13, 17, 19, 23, 29, 31, 37, 41, 43, 47, 53, 59, 61, 67, 71, 73, 79, 83, 89, 97]\n"
     ]
    }
   ],
   "source": [
    "LIMITE = 100\n",
    "\n",
    "# Todos os números\n",
    "numeros = [n for n in range(2, LIMITE + 1)]\n",
    "\n",
    "# Todos os números, inicialmente, seriam primos \n",
    "primos = numeros\n",
    "\n",
    "# Menor Valor\n",
    "num_atual = numeros[0] \n",
    "\n",
    "# Enquanto o número atual for menor que a raiz de limite\n",
    "while num_atual * num_atual <= LIMITE:\n",
    "\n",
    "    # Se o número for primo, remova todos os seus múltiplos da lista (se estiverem lá)\n",
    "    if (num_atual in primos):\n",
    "\n",
    "        for i in range(num_atual * num_atual, LIMITE + 1, num_atual):\n",
    "            if i in numeros:\n",
    "                numeros.remove(i)\n",
    "\n",
    "    primos = numeros\n",
    "    num_atual += 1\n",
    "\n",
    "print(primos)\n",
    "# for n in primos:\n",
    "#     print(n)"
   ]
  },
  {
   "cell_type": "markdown",
   "metadata": {},
   "source": [
    "# Exercício 5\n"
   ]
  },
  {
   "cell_type": "markdown",
   "metadata": {},
   "source": [
    "Escreva um código Python que declara 3 variáveis:\n",
    "\n",
    "\n",
    "- dia, inicializada com valor 22\n",
    "\n",
    "- mes, inicializada com valor 10 e\n",
    "\n",
    "- ano, inicializada com valor 2022\n",
    "\n",
    "Como saída, você deverá imprimir a data correspondente, no formato a seguir dia/mes/ano."
   ]
  },
  {
   "cell_type": "code",
   "execution_count": 27,
   "metadata": {},
   "outputs": [
    {
     "name": "stdout",
     "output_type": "stream",
     "text": [
      "22/10/2022\n"
     ]
    }
   ],
   "source": [
    "dia, mes, ano = 22, 10, 2022\n",
    "\n",
    "print(f\"{dia}/{mes}/{ano}\")"
   ]
  }
 ],
 "metadata": {
  "kernelspec": {
   "display_name": "Python 3 (ipykernel)",
   "language": "python",
   "name": "python3"
  },
  "language_info": {
   "codemirror_mode": {
    "name": "ipython",
    "version": 3
   },
   "file_extension": ".py",
   "mimetype": "text/x-python",
   "name": "python",
   "nbconvert_exporter": "python",
   "pygments_lexer": "ipython3",
   "version": "3.10.12"
  }
 },
 "nbformat": 4,
 "nbformat_minor": 4
}
